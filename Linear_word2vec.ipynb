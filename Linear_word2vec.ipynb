{
 "cells": [
  {
   "cell_type": "code",
   "execution_count": 5,
   "metadata": {
    "collapsed": false
   },
   "outputs": [],
   "source": [
    "from nltk.tokenize import word_tokenize\n",
    "from nltk.tokenize import TweetTokenizer\n",
    "from nltk.corpus import stopwords\n",
    "import gensim\n",
    "from gensim.models.keyedvectors import KeyedVectors\n",
    "import nltk\n",
    "import matplotlib.pyplot as plt\n",
    "import string\n",
    "import numpy as np\n",
    "import re\n",
    "from sklearn.model_selection import train_test_split\n",
    "from sklearn.metrics import accuracy_score\n",
    "from sklearn.svm import LinearSVC\n",
    "from sklearn.model_selection import StratifiedKFold\n",
    "from sklearn.metrics import classification_report\n",
    "from sklearn.metrics import confusion_matrix\n",
    "from sklearn.linear_model import LogisticRegression\n",
    "import csv\n",
    "%matplotlib inline\n",
    "\n",
    "def plot_confusion_matrix(cm, labels, title='Confusion matrix', cmap=plt.cm.Reds):\n",
    "    plt.imshow(cm, interpolation='nearest', cmap=cmap)\n",
    "    plt.title(title)\n",
    "    plt.colorbar()\n",
    "    tick_marks = np.arange(len(labels))\n",
    "    plt.xticks(tick_marks, labels, rotation=90)\n",
    "    plt.yticks(tick_marks, labels)\n",
    "    plt.tight_layout()\n",
    "    plt.ylabel('True label')\n",
    "    plt.xlabel('Predicted label')\n",
    "    \n",
    "\n",
    "data_path = 'data/data.csv'\n",
    "path = 'data/ru.bin'\n",
    "\n",
    "tweet_tokenizer = TweetTokenizer()\n",
    "\n",
    "tweet_data = []\n",
    "\n",
    "with open(data_path) as f:\n",
    "    reader = csv.reader(f, delimiter=' ',\n",
    "                            quotechar='|', quoting=csv.QUOTE_MINIMAL)\n",
    "    tweet_data = list(reader)\n",
    "    \n",
    "parsed_tweet = []\n",
    "\n",
    "# stop words\n",
    "stop = set(stopwords.words('russian'))\n",
    "model = KeyedVectors.load(path)"
   ]
  },
  {
   "cell_type": "code",
   "execution_count": 6,
   "metadata": {
    "collapsed": false
   },
   "outputs": [],
   "source": [
    "emoji_pattern = re.compile(\n",
    "    u\"(\\ud83d[\\ude00-\\ude4f])|\"  # emoticons\n",
    "    u\"(\\ud83c[\\udf00-\\uffff])|\"  # symbols & pictographs (1 of 2)\n",
    "    u\"(\\ud83d[\\u0000-\\uddff])|\"  # symbols & pictographs (2 of 2)\n",
    "    u\"(\\ud83d[\\ude80-\\udeff])|\"  # transport & map symbols\n",
    "    u\"(\\ud83c[\\udde0-\\uddff])\"  # flags (iOS)\n",
    "    \"+\", flags=re.UNICODE)\n",
    "\n",
    "patt1 = re.compile(u'([\\U00002600-\\U000027BF])|([\\U0001f300-\\U0001f64F])|([\\U0001f680-\\U0001f6FF])')\n",
    "patt2 = re.compile(u'([\\u2600-\\u27BF])|([\\uD83C][\\uDF00-\\uDFFF])|([\\uD83D][\\uDC00-\\uDE4F])|([\\uD83D][\\uDE80-\\uDEFF])')\n",
    "\n",
    "for info in tweet_data:\n",
    "    # delete links\n",
    "    text = re.sub(r'^https?:\\/\\/.*[\\r\\n]*', '', unicode(info[0].lower(), 'utf-8'), flags=re.MULTILINE)\n",
    "    # delete emojis\n",
    "    text = emoji_pattern.sub(r'', text) # no emoji\n",
    "    text = patt1.sub(r'', text) # no emoji\n",
    "    text = patt2.sub(r'', text) # no emoji\n",
    "    \n",
    "    # delete @\n",
    "    # delete #\n",
    "    l = \" \".join(tweet_tokenizer.tokenize(text)).split(\" \")\n",
    "    filtered_sentence = [w for w in l if not w in stop and not w in string.punctuation \n",
    "                         and ( w[0] != '@' and w[0] != '#')]\n",
    "    parsed_tweet.append(filtered_sentence)\n",
    "\n",
    "\n",
    "word2vec_feature = []\n",
    "\n",
    "# adds the word2vec average\n",
    "for tweet in parsed_tweet:\n",
    "    average_vec = np.zeros(300)\n",
    "    for word in tweet:\n",
    "        if word in model.wv:\n",
    "            average_vec += (model.wv[word] / len(tweet))\n",
    "        else:\n",
    "            pass\n",
    "    word2vec_feature.append(average_vec)\n",
    "    \n",
    "# creates a corpus with each document having one string\n",
    "\n",
    "for i in range(len(parsed_tweet)):\n",
    "    parsed_tweet[i] = ' '.join(parsed_tweet[i])    \n",
    "\n",
    "# label the data\n",
    "\n",
    "tweet_target = np.zeros(len(tweet_data))\n",
    "\n",
    "labels = {\n",
    "    'Предложение проституции': 0,\n",
    "    'Разжигание межнациональной розни': 1,\n",
    "    'Оскорбление чувств верующих': 2,\n",
    "    'Посты политической направленности': 3,\n",
    "    'Продажа наркотиков': 4,\n",
    "    'positive': 5\n",
    "}\n",
    "\n",
    "labels_list = [key for key in labels]\n",
    "labels_list_two = ['prostitution', 'mezhnac', 'vera', 'politic', 'drugs', 'positive']\n",
    "\n",
    "\n",
    "for i in range(len(tweet_data)):\n",
    "    tweet_target[i] = labels[tweet_data[i][1]]"
   ]
  },
  {
   "cell_type": "code",
   "execution_count": 7,
   "metadata": {
    "collapsed": false
   },
   "outputs": [
    {
     "name": "stdout",
     "output_type": "stream",
     "text": [
      "('\\taccuracy test: ', 0.7407407407407407)\n",
      "[[ 63   0   0   0  11   2]\n",
      " [  0   4   2   7   7   9]\n",
      " [  0   0  32   1   4  12]\n",
      " [  1   0   3  15   1  12]\n",
      " [  3   0   0   0 139   2]\n",
      " [ 11   3   7   2  12  67]]\n",
      "              precision    recall  f1-score   support\n",
      "\n",
      "prostitution       0.81      0.83      0.82        76\n",
      "     mezhnac       0.57      0.14      0.22        29\n",
      "        vera       0.73      0.65      0.69        49\n",
      "     politic       0.60      0.47      0.53        32\n",
      "       drugs       0.80      0.97      0.87       144\n",
      "    positive       0.64      0.66      0.65       102\n",
      "\n",
      " avg / total       0.73      0.74      0.72       432\n",
      "\n"
     ]
    },
    {
     "data": {
      "image/png": "[encoded data removed]",
      "text/plain": [
       "<matplotlib.figure.Figure at 0x7fb04635f6d0>"
      ]
     },
     "metadata": {},
     "output_type": "display_data"
    }
   ],
   "source": [
    "total_svm = 0\n",
    "\"\"\" \n",
    "80% Training , 20% Testing\n",
    "\"\"\"\n",
    "\n",
    "twenty_percent = len(tweet_data) * 0.2\n",
    "\n",
    "\n",
    "X_train, X_test, y_train, y_test = train_test_split(word2vec_feature, tweet_target, test_size=0.2, random_state=42)\n",
    "\n",
    "model1 = LogisticRegression()\n",
    "model1.fit(X_train, y_train)\n",
    "\n",
    "result1 = model1.predict(X_test)\n",
    "\n",
    "print(\"\\taccuracy test: \", accuracy_score(y_test, result1))\n",
    "\n",
    "cnf_matrix = confusion_matrix(y_test, result1)\n",
    "print(cnf_matrix)\n",
    "\n",
    "plt.figure()\n",
    "plot_confusion_matrix(cnf_matrix, labels_list_two)\n",
    "\n",
    "print(classification_report(y_test, result1, target_names=labels_list_two))"
   ]
  },
  {
   "cell_type": "code",
   "execution_count": 8,
   "metadata": {
    "collapsed": false
   },
   "outputs": [
    {
     "name": "stdout",
     "output_type": "stream",
     "text": [
      "(0.0, '|', 19.736842105263158, '%', '|', 17.105263157894736, '|', 17.59259259259259)\n",
      "(1.0, '|', 10.344827586206897, '%', '|', 86.20689655172413, '|', 6.712962962962964)\n",
      "(2.0, '|', 24.489795918367346, '%', '|', 34.69387755102041, '|', 11.342592592592593)\n",
      "(3.0, '|', 31.25, '%', '|', 53.125, '|', 7.4074074074074066)\n",
      "(4.0, '|', 24.305555555555554, '%', '|', 3.4722222222222223, '|', 33.33333333333333)\n",
      "(5.0, '|', 36.27450980392157, '%', '|', 34.31372549019608, '|', 23.61111111111111)\n"
     ]
    }
   ],
   "source": [
    "\n",
    "errors_first = {i:0 for i in set(y_test)}\n",
    "errors_second = {i: 0 for i in set(y_test)}\n",
    "count_documents = {i:0 for i in set(y_test)}\n",
    "\n",
    "all_size = len(X_test)\n",
    "\n",
    "# ошибки первого и второго рода\n",
    "for i in range(len(result1)):\n",
    "    if(result1[i] != y_test[i]):\n",
    "        errors_first[result1[i]] += 1\n",
    "        errors_second[y_test[i]] += 1\n",
    "    count_documents[y_test[i]] += 1\n",
    "\n",
    "for i in errors_first:\n",
    "    # ошибка первого рода, ошибка второго рода, процент категории от общего количества текстов\n",
    "    print(i, '|', errors_first[i] / float(count_documents[i]) * 100, '%', '|', errors_second[i] /\n",
    "float(count_documents[i]) * 100, '|', float(count_documents[i]) / all_size * 100)\n",
    "  "
   ]
  },
  {
   "cell_type": "code",
   "execution_count": 9,
   "metadata": {
    "collapsed": false
   },
   "outputs": [
    {
     "name": "stdout",
     "output_type": "stream",
     "text": [
      "('AVG K-cross validation: ', 0.7221706864564007)\n"
     ]
    }
   ],
   "source": [
    "total_svm = 0\n",
    "\n",
    "# initialize the K-cross fold validation\n",
    "\n",
    "kf = StratifiedKFold(n_splits=10)\n",
    "\n",
    "for train_index, test_index in kf.split(word2vec_feature, tweet_target):\n",
    "    X_train = [word2vec_feature[i] for i in train_index]\n",
    "    X_test = [word2vec_feature[i] for i in test_index]\n",
    "    y_train, y_test = tweet_target[train_index], tweet_target[test_index]\n",
    "    \n",
    "    model1 = LogisticRegression()\n",
    "    model1.fit(X_train, y_train)\n",
    "    result1 = model1.predict(X_test)\n",
    "    \n",
    "    total_svm = total_svm + sum(y_test == result1)\n",
    "    \n",
    "\n",
    "print('AVG K-cross validation: ', float(total_svm)/len(tweet_data))"
   ]
  },
  {
   "cell_type": "code",
   "execution_count": null,
   "metadata": {
    "collapsed": false
   },
   "outputs": [
    {
     "name": "stdout",
     "output_type": "stream",
     "text": [
      "Fitting 5 folds for each of 20 candidates, totalling 100 fits\n"
     ]
    },
    {
     "name": "stderr",
     "output_type": "stream",
     "text": [
      "[Parallel(n_jobs=4)]: Done  42 tasks      | elapsed:    5.3s\n",
      "/home/daniil/anaconda2/lib/python2.7/site-packages/sklearn/linear_model/base.py:352: RuntimeWarning: overflow encountered in exp\n",
      "  np.exp(prob, prob)\n",
      "/home/daniil/anaconda2/lib/python2.7/site-packages/sklearn/linear_model/base.py:352: RuntimeWarning: overflow encountered in exp\n",
      "  np.exp(prob, prob)\n"
     ]
    }
   ],
   "source": [
    "from sklearn.model_selection import GridSearchCV, cross_val_score\n",
    "from sklearn.cross_validation import KFold\n",
    "\n",
    "Cs=list(np.power(10.0, np.arange(-10, 10)))\n",
    "\n",
    "fold = KFold(len(y_train), n_folds=5, shuffle=True, random_state=777)\n",
    "\n",
    "_clf = LogisticRegression()\n",
    "gs = GridSearchCV(\n",
    "    _clf,\n",
    "    param_grid={'C': Cs, 'penalty': ['l1'],\n",
    "                'tol': [1e-10], 'solver': ['liblinear']},\n",
    "    cv=fold,                 \n",
    "    scoring='neg_log_loss',\n",
    "    n_jobs=4,\n",
    "    verbose=1,\n",
    "    refit=True)\n",
    "%time gs.fit(X_train, y_train)                \n",
    "\n",
    "lrcv = LogisticRegressionCV(\n",
    "    Cs=Cs, penalty='l1', tol=1e-10, scoring='neg_log_loss', cv=skf,\n",
    "    solver='liblinear', n_jobs=4, verbose=0, refit=True,\n",
    "    max_iter=100,\n",
    ")                 \n",
    "%time lrcv.fit(X_train, y_train)"
   ]
  },
  {
   "cell_type": "code",
   "execution_count": null,
   "metadata": {
    "collapsed": true
   },
   "outputs": [],
   "source": []
  }
 ],
 "metadata": {
  "kernelspec": {
   "display_name": "Python 2",
   "language": "python",
   "name": "python2"
  },
  "language_info": {
   "codemirror_mode": {
    "name": "ipython",
    "version": 2
   },
   "file_extension": ".py",
   "mimetype": "text/x-python",
   "name": "python",
   "nbconvert_exporter": "python",
   "pygments_lexer": "ipython2",
   "version": "2.7.13"
  }
 },
 "nbformat": 4,
 "nbformat_minor": 2
}
