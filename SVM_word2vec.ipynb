{
 "cells": [
  {
   "cell_type": "code",
   "execution_count": 15,
   "metadata": {
    "collapsed": false
   },
   "outputs": [],
   "source": [
    "from nltk.tokenize import word_tokenize\n",
    "from nltk.tokenize import TweetTokenizer\n",
    "from nltk.corpus import stopwords\n",
    "import gensim\n",
    "from gensim.models.keyedvectors import KeyedVectors\n",
    "import nltk\n",
    "import matplotlib.pyplot as plt\n",
    "import string\n",
    "import numpy as np\n",
    "import re\n",
    "from sklearn.model_selection import train_test_split\n",
    "from sklearn.metrics import accuracy_score\n",
    "from sklearn.svm import LinearSVC\n",
    "from sklearn.model_selection import StratifiedKFold\n",
    "from sklearn.metrics import classification_report\n",
    "from sklearn.metrics import confusion_matrix\n",
    "%matplotlib inline\n",
    "\n",
    "def plot_confusion_matrix(cm, labels, title='Confusion matrix', cmap=plt.cm.Reds):\n",
    "    plt.imshow(cm, interpolation='nearest', cmap=cmap)\n",
    "    plt.title(title)\n",
    "    plt.colorbar()\n",
    "    tick_marks = np.arange(len(labels))\n",
    "    plt.xticks(tick_marks, labels, rotation=90)\n",
    "    plt.yticks(tick_marks, labels)\n",
    "    plt.tight_layout()\n",
    "    plt.ylabel('True label')\n",
    "    plt.xlabel('Predicted label')\n",
    "    \n",
    "\n",
    "data_path = 'data/data.csv'\n",
    "path = 'data/ru.vec'\n",
    "\n",
    "tweet_tokenizer = TweetTokenizer()\n",
    "\n",
    "tweet_data = []\n",
    "\n",
    "with open(data_path) as f:\n",
    "    reader = csv.reader(f, delimiter=' ',\n",
    "                            quotechar='|', quoting=csv.QUOTE_MINIMAL)\n",
    "    tweet_data = list(reader)\n",
    "    \n",
    "parsed_tweet = []\n",
    "\n",
    "# stop words\n",
    "stop = set(stopwords.words('russian'))\n",
    "model = KeyedVectors.load_word2vec_format(path)"
   ]
  },
  {
   "cell_type": "code",
   "execution_count": 9,
   "metadata": {
    "collapsed": false
   },
   "outputs": [],
   "source": [
    "emoji_pattern = re.compile(\n",
    "    u\"(\\ud83d[\\ude00-\\ude4f])|\"  # emoticons\n",
    "    u\"(\\ud83c[\\udf00-\\uffff])|\"  # symbols & pictographs (1 of 2)\n",
    "    u\"(\\ud83d[\\u0000-\\uddff])|\"  # symbols & pictographs (2 of 2)\n",
    "    u\"(\\ud83d[\\ude80-\\udeff])|\"  # transport & map symbols\n",
    "    u\"(\\ud83c[\\udde0-\\uddff])\"  # flags (iOS)\n",
    "    \"+\", flags=re.UNICODE)\n",
    "\n",
    "patt1 = re.compile(u'([\\U00002600-\\U000027BF])|([\\U0001f300-\\U0001f64F])|([\\U0001f680-\\U0001f6FF])')\n",
    "patt2 = re.compile(u'([\\u2600-\\u27BF])|([\\uD83C][\\uDF00-\\uDFFF])|([\\uD83D][\\uDC00-\\uDE4F])|([\\uD83D][\\uDE80-\\uDEFF])')\n",
    "\n",
    "for info in tweet_data:\n",
    "    # delete links\n",
    "    text = re.sub(r'^https?:\\/\\/.*[\\r\\n]*', '', unicode(info[0].lower(), 'utf-8'), flags=re.MULTILINE)\n",
    "    # delete emojis\n",
    "    text = emoji_pattern.sub(r'', text) # no emoji\n",
    "    text = patt1.sub(r'', text) # no emoji\n",
    "    text = patt2.sub(r'', text) # no emoji\n",
    "    \n",
    "    # delete @\n",
    "    # delete #\n",
    "    l = \" \".join(tweet_tokenizer.tokenize(text)).split(\" \")\n",
    "    filtered_sentence = [w for w in l if not w in stop and not w in string.punctuation \n",
    "                         and ( w[0] != '@' and w[0] != '#')]\n",
    "    parsed_tweet.append(filtered_sentence)\n",
    "\n",
    "\n",
    "word2vec_feature = []\n",
    "\n",
    "# adds the word2vec average\n",
    "for tweet in parsed_tweet:\n",
    "    average_vec = np.zeros(300)\n",
    "    for word in tweet:\n",
    "        if word in model.wv:\n",
    "            average_vec += (model.wv[word] / len(tweet))\n",
    "        else:\n",
    "            pass\n",
    "    word2vec_feature.append(average_vec)\n",
    "    \n",
    "# creates a corpus with each document having one string\n",
    "\n",
    "for i in range(len(parsed_tweet)):\n",
    "    parsed_tweet[i] = ' '.join(parsed_tweet[i])    \n",
    "\n",
    "# label the data\n",
    "\n",
    "tweet_target = np.zeros(len(tweet_data))\n",
    "\n",
    "labels = {\n",
    "    'Предложение проституции': 0,\n",
    "    'Разжигание межнациональной розни': 1,\n",
    "    'Оскорбление чувств верующих': 2,\n",
    "    'Посты политической направленности': 3,\n",
    "    'Продажа наркотиков': 4\n",
    "}\n",
    "\n",
    "labels_list = [key for key in labels]\n",
    "labels_list_two = ['prostitution', 'mezhnac', 'vera', 'politic', 'drugs']\n",
    "\n",
    "\n",
    "for i in range(len(tweet_data)):\n",
    "    tweet_target[i] = labels[tweet_data[i][1]]"
   ]
  },
  {
   "cell_type": "code",
   "execution_count": 11,
   "metadata": {
    "collapsed": false
   },
   "outputs": [
    {
     "name": "stdout",
     "output_type": "stream",
     "text": [
      "('\\taccuracy test: ', 0.83132530120481929)\n",
      "[[ 60   0   0   0  10]\n",
      " [  0  12   5   7  10]\n",
      " [  0   2  30   1   3]\n",
      " [  1   9   3  19   2]\n",
      " [  3   0   0   0 155]]\n",
      "              precision    recall  f1-score   support\n",
      "\n",
      "prostitution       0.94      0.86      0.90        70\n",
      "     mezhnac       0.52      0.35      0.42        34\n",
      "        vera       0.79      0.83      0.81        36\n",
      "     politic       0.70      0.56      0.62        34\n",
      "       drugs       0.86      0.98      0.92       158\n",
      "\n",
      " avg / total       0.82      0.83      0.82       332\n",
      "\n"
     ]
    },
    {
     "data": {
      "image/png": "[encoded data removed]",
      "text/plain": [
       "<matplotlib.figure.Figure at 0x7f333a55e7d0>"
      ]
     },
     "metadata": {},
     "output_type": "display_data"
    }
   ],
   "source": [
    "total_svm = 0\n",
    "\"\"\" \n",
    "80% Training , 20% Testing\n",
    "\"\"\"\n",
    "\n",
    "twenty_percent = len(tweet_data) * 0.2\n",
    "\n",
    "\n",
    "X_train, X_test, y_train, y_test = train_test_split(word2vec_feature, tweet_target, test_size=0.2, random_state=42)\n",
    "\n",
    "model1 = LinearSVC()\n",
    "model1.fit(X_train, y_train)\n",
    "\n",
    "result1 = model1.predict(X_test)\n",
    "\n",
    "print(\"\\taccuracy test: \", accuracy_score(y_test, result1))\n",
    "\n",
    "cnf_matrix = confusion_matrix(y_test, result1)\n",
    "print(cnf_matrix)\n",
    "\n",
    "plt.figure()\n",
    "plot_confusion_matrix(cnf_matrix, labels_list_two)\n",
    "\n",
    "print(classification_report(y_test, result1, target_names=labels_list_two))"
   ]
  },
  {
   "cell_type": "code",
   "execution_count": 12,
   "metadata": {
    "collapsed": false
   },
   "outputs": [
    {
     "name": "stdout",
     "output_type": "stream",
     "text": [
      "(0.0, '|', 5.714285714285714, '%', '|', 14.285714285714285, '|', 21.084337349397593)\n",
      "(1.0, '|', 32.35294117647059, '%', '|', 64.70588235294117, '|', 10.240963855421686)\n",
      "(2.0, '|', 22.22222222222222, '%', '|', 16.666666666666664, '|', 10.843373493975903)\n",
      "(3.0, '|', 23.52941176470588, '%', '|', 44.11764705882353, '|', 10.240963855421686)\n",
      "(4.0, '|', 15.822784810126583, '%', '|', 1.89873417721519, '|', 47.59036144578313)\n"
     ]
    }
   ],
   "source": [
    "\n",
    "errors_first = {i:0 for i in set(y_test)}\n",
    "errors_second = {i: 0 for i in set(y_test)}\n",
    "count_documents = {i:0 for i in set(y_test)}\n",
    "\n",
    "all_size = len(X_test)\n",
    "\n",
    "# ошибки первого и второго рода\n",
    "for i in range(len(result1)):\n",
    "    if(result1[i] != y_test[i]):\n",
    "        errors_first[result1[i]] += 1\n",
    "        errors_second[y_test[i]] += 1\n",
    "    count_documents[y_test[i]] += 1\n",
    "\n",
    "for i in errors_first:\n",
    "    # ошибка первого рода, ошибка второго рода, процент категории от общего количества текстов\n",
    "    print(i, '|', errors_first[i] / float(count_documents[i]) * 100, '%', '|', errors_second[i] /\n",
    "float(count_documents[i]) * 100, '|', float(count_documents[i]) / all_size * 100)\n",
    "  "
   ]
  },
  {
   "cell_type": "code",
   "execution_count": 13,
   "metadata": {
    "collapsed": false
   },
   "outputs": [
    {
     "name": "stdout",
     "output_type": "stream",
     "text": [
      "('AVG K-cross validation: ', 0.8079710144927537)\n"
     ]
    }
   ],
   "source": [
    "total_svm = 0\n",
    "\n",
    "# initialize the K-cross fold validation\n",
    "\n",
    "kf = StratifiedKFold(n_splits=10)\n",
    "\n",
    "for train_index, test_index in kf.split(word2vec_feature, tweet_target):\n",
    "    X_train = [word2vec_feature[i] for i in train_index]\n",
    "    X_test = [word2vec_feature[i] for i in test_index]\n",
    "    y_train, y_test = tweet_target[train_index], tweet_target[test_index]\n",
    "    \n",
    "    model1 = LinearSVC()\n",
    "    model1.fit(X_train, y_train)\n",
    "    result1 = model1.predict(X_test)\n",
    "    \n",
    "    total_svm = total_svm + sum(y_test == result1)\n",
    "    \n",
    "\n",
    "print('AVG K-cross validation: ', float(total_svm)/len(tweet_data))"
   ]
  },
  {
   "cell_type": "code",
   "execution_count": null,
   "metadata": {
    "collapsed": true
   },
   "outputs": [],
   "source": []
  }
 ],
 "metadata": {
  "kernelspec": {
   "display_name": "Python 2",
   "language": "python",
   "name": "python2"
  },
  "language_info": {
   "codemirror_mode": {
    "name": "ipython",
    "version": 2
   },
   "file_extension": ".py",
   "mimetype": "text/x-python",
   "name": "python",
   "nbconvert_exporter": "python",
   "pygments_lexer": "ipython2",
   "version": "2.7.13"
  }
 },
 "nbformat": 4,
 "nbformat_minor": 2
}
