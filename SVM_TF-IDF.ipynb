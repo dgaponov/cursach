{
 "cells": [
  {
   "cell_type": "code",
   "execution_count": 59,
   "metadata": {
    "collapsed": false
   },
   "outputs": [],
   "source": [
    "from nltk.tokenize import word_tokenize\n",
    "from nltk.tokenize import TweetTokenizer\n",
    "from nltk.corpus import stopwords\n",
    "import nltk\n",
    "import matplotlib.pyplot as plt\n",
    "import string\n",
    "import csv\n",
    "import numpy as np\n",
    "import re\n",
    "from sklearn.model_selection import train_test_split\n",
    "from sklearn.metrics import accuracy_score\n",
    "from sklearn.svm import LinearSVC\n",
    "from sklearn.feature_extraction.text import TfidfVectorizer\n",
    "from sklearn.model_selection import StratifiedKFold\n",
    "from sklearn.metrics import classification_report\n",
    "from sklearn.metrics import confusion_matrix\n",
    "%matplotlib inline\n",
    "\n",
    "def plot_confusion_matrix(cm, labels, title='Confusion matrix', cmap=plt.cm.Reds):\n",
    "    plt.imshow(cm, interpolation='nearest', cmap=cmap)\n",
    "    plt.title(title)\n",
    "    plt.colorbar()\n",
    "    tick_marks = np.arange(len(labels))\n",
    "    plt.xticks(tick_marks, labels, rotation=90)\n",
    "    plt.yticks(tick_marks, labels)\n",
    "    plt.tight_layout()\n",
    "    plt.ylabel('True label')\n",
    "    plt.xlabel('Predicted label')\n",
    "    \n",
    "\n",
    "data_path = 'data/data.csv'\n",
    "\n",
    "tweet_tokenizer = TweetTokenizer()\n",
    "\n",
    "tweet_data = []\n",
    "\n",
    "with open(data_path) as f:\n",
    "    reader = csv.reader(f, delimiter=' ',\n",
    "                            quotechar='|', quoting=csv.QUOTE_MINIMAL)\n",
    "    tweet_data = list(reader)\n",
    "\n",
    "parsed_tweet = []\n",
    "\n",
    "# stop words\n",
    "stop = set(stopwords.words('russian'))"
   ]
  },
  {
   "cell_type": "code",
   "execution_count": 60,
   "metadata": {
    "collapsed": false
   },
   "outputs": [],
   "source": [
    "emoji_pattern = re.compile(\n",
    "    u\"(\\ud83d[\\ude00-\\ude4f])|\"  # emoticons\n",
    "    u\"(\\ud83c[\\udf00-\\uffff])|\"  # symbols & pictographs (1 of 2)\n",
    "    u\"(\\ud83d[\\u0000-\\uddff])|\"  # symbols & pictographs (2 of 2)\n",
    "    u\"(\\ud83d[\\ude80-\\udeff])|\"  # transport & map symbols\n",
    "    u\"(\\ud83c[\\udde0-\\uddff])\"  # flags (iOS)\n",
    "    \"+\", flags=re.UNICODE)\n",
    "\n",
    "patt1 = re.compile(u'([\\U00002600-\\U000027BF])|([\\U0001f300-\\U0001f64F])|([\\U0001f680-\\U0001f6FF])')\n",
    "patt2 = re.compile(u'([\\u2600-\\u27BF])|([\\uD83C][\\uDF00-\\uDFFF])|([\\uD83D][\\uDC00-\\uDE4F])|([\\uD83D][\\uDE80-\\uDEFF])')\n",
    "\n",
    "for info in tweet_data:\n",
    "    # delete links\n",
    "    text = re.sub(r'^https?:\\/\\/.*[\\r\\n]*', '', unicode(info[0].lower(), 'utf-8'), flags=re.MULTILINE)\n",
    "    # delete emojis\n",
    "    text = emoji_pattern.sub(r'', text) # no emoji\n",
    "    text = patt1.sub(r'', text) # no emoji\n",
    "    text = patt2.sub(r'', text) # no emoji\n",
    "    \n",
    "    # delete @\n",
    "    # delete #\n",
    "    l = \" \".join(tweet_tokenizer.tokenize(text)).split(\" \")\n",
    "    filtered_sentence = [w for w in l if not w in stop and not w in string.punctuation \n",
    "                         and ( w[0] != '@' and w[0] != '#')]\n",
    "    parsed_tweet.append(filtered_sentence)\n",
    "\n",
    "# creates a corpus with each document having one string\n",
    "\n",
    "for i in range(len(parsed_tweet)):\n",
    "    parsed_tweet[i] = ' '.join(parsed_tweet[i])    \n",
    "\n",
    "# label the data\n",
    "\n",
    "tweet_target = np.zeros(len(tweet_data))\n",
    "\n",
    "labels = {\n",
    "    'Предложение проституции': 0,\n",
    "    'Разжигание межнациональной розни': 1,\n",
    "    'Оскорбление чувств верующих': 2,\n",
    "    'Посты политической направленности': 3,\n",
    "    'Продажа наркотиков': 4\n",
    "}\n",
    "\n",
    "labels_list = [key for key in labels]\n",
    "labels_list_two = ['prostitution', 'mezhnac', 'vera', 'politic', 'drugs']\n",
    "\n",
    "\n",
    "for i in range(len(tweet_data)):\n",
    "    tweet_target[i] = labels[tweet_data[i][1]]"
   ]
  },
  {
   "cell_type": "code",
   "execution_count": 61,
   "metadata": {
    "collapsed": false
   },
   "outputs": [
    {
     "name": "stdout",
     "output_type": "stream",
     "text": [
      "('\\taccuracy test: ', 0.9487951807228916)\n",
      "[[ 70   0   0   0   0]\n",
      " [  0  26   6   2   0]\n",
      " [  0   0  35   1   0]\n",
      " [  0   5   2  27   0]\n",
      " [  0   1   0   0 157]]\n",
      "              precision    recall  f1-score   support\n",
      "\n",
      "prostitution       1.00      1.00      1.00        70\n",
      "     mezhnac       0.81      0.76      0.79        34\n",
      "        vera       0.81      0.97      0.89        36\n",
      "     politic       0.90      0.79      0.84        34\n",
      "       drugs       1.00      0.99      1.00       158\n",
      "\n",
      " avg / total       0.95      0.95      0.95       332\n",
      "\n"
     ]
    },
    {
     "data": {
      "image/png": "[encoded data removed]",
      "text/plain": [
       "<matplotlib.figure.Figure at 0x7fb26ce6c4d0>"
      ]
     },
     "metadata": {},
     "output_type": "display_data"
    }
   ],
   "source": [
    "total_svm = 0\n",
    "\"\"\" \n",
    "80% Training , 20% Testing\n",
    "\"\"\"\n",
    "\n",
    "twenty_percent = len(tweet_data) * 0.2\n",
    "\n",
    "X_train, X_test, y_train, y_test = train_test_split(parsed_tweet, tweet_target, test_size=0.2, random_state=42)\n",
    "\n",
    "vectorizer = TfidfVectorizer(min_df=5, max_df = 0.8, sublinear_tf=True, use_idf=True)\n",
    "\n",
    "# Returns a feature vectors matrix having a fixed length tf-idf weighted word count feature\n",
    "# for each document in training set. aka Term-document matrix\n",
    "\n",
    "train_corpus_tf_idf = vectorizer.fit_transform(X_train)\n",
    "test_corpus_tf_idf = vectorizer.transform(X_test)\n",
    "\n",
    "model1 = LinearSVC()\n",
    "model1.fit(train_corpus_tf_idf, y_train)\n",
    "\n",
    "result1 = model1.predict(test_corpus_tf_idf)\n",
    "\n",
    "print(\"\\taccuracy test: \", accuracy_score(y_test, result1))\n",
    "\n",
    "cnf_matrix = confusion_matrix(y_test, result1)\n",
    "print(cnf_matrix)\n",
    "\n",
    "plt.figure()\n",
    "plot_confusion_matrix(cnf_matrix, labels_list_two)\n",
    "\n",
    "print(classification_report(y_test, result1, target_names=labels_list_two))"
   ]
  },
  {
   "cell_type": "code",
   "execution_count": 62,
   "metadata": {
    "collapsed": false
   },
   "outputs": [
    {
     "name": "stdout",
     "output_type": "stream",
     "text": [
      "(0.0, '|', 0.0, '%', '|', 0.0, '|', 21.084337349397593)\n",
      "(1.0, '|', 17.647058823529413, '%', '|', 23.52941176470588, '|', 10.240963855421686)\n",
      "(2.0, '|', 22.22222222222222, '%', '|', 2.7777777777777777, '|', 10.843373493975903)\n",
      "(3.0, '|', 8.823529411764707, '%', '|', 20.588235294117645, '|', 10.240963855421686)\n",
      "(4.0, '|', 0.0, '%', '|', 0.6329113924050633, '|', 47.59036144578313)\n"
     ]
    }
   ],
   "source": [
    "\n",
    "errors_first = {i:0 for i in set(y_test)}\n",
    "errors_second = {i: 0 for i in set(y_test)}\n",
    "count_documents = {i:0 for i in set(y_test)}\n",
    "\n",
    "all_size = len(X_test)\n",
    "\n",
    "# ошибки первого и второго рода\n",
    "for i in range(len(result1)):\n",
    "    if(result1[i] != y_test[i]):\n",
    "        errors_first[result1[i]] += 1\n",
    "        errors_second[y_test[i]] += 1\n",
    "    count_documents[y_test[i]] += 1\n",
    "\n",
    "for i in errors_first:\n",
    "    # ошибка первого рода, ошибка второго рода, процент категории от общего количества текстов\n",
    "    print(i, '|', errors_first[i] / float(count_documents[i]) * 100, '%', '|', errors_second[i] /\n",
    "float(count_documents[i]) * 100, '|', float(count_documents[i]) / all_size * 100)\n",
    "  "
   ]
  },
  {
   "cell_type": "code",
   "execution_count": 63,
   "metadata": {
    "collapsed": false
   },
   "outputs": [
    {
     "name": "stdout",
     "output_type": "stream",
     "text": [
      "('AVG K-cross validation: ', 0.9305555555555556)\n"
     ]
    }
   ],
   "source": [
    "total_svm = 0\n",
    "\n",
    "# initialize the K-cross fold validation\n",
    "\n",
    "kf = StratifiedKFold(n_splits=10)\n",
    "\n",
    "for train_index, test_index in kf.split(parsed_tweet, tweet_target):\n",
    "    X_train = [parsed_tweet[i] for i in train_index]\n",
    "    X_test = [parsed_tweet[i] for i in test_index]\n",
    "    y_train, y_test = tweet_target[train_index], tweet_target[test_index]\n",
    "    vectorizer = TfidfVectorizer(min_df=5, max_df = 0.8, sublinear_tf=True, use_idf=True)\n",
    "    train_corpus_tf_idf = vectorizer.fit_transform(X_train)\n",
    "    test_corpus_tf_idf = vectorizer.transform(X_test)\n",
    "    \n",
    "    model1 = LinearSVC()\n",
    "    model1.fit(train_corpus_tf_idf, y_train)\n",
    "    result1 = model1.predict(test_corpus_tf_idf)\n",
    "    \n",
    "    total_svm = total_svm + sum(y_test == result1)\n",
    "    \n",
    "\n",
    "print('AVG K-cross validation: ', float(total_svm)/len(tweet_data))"
   ]
  },
  {
   "cell_type": "code",
   "execution_count": null,
   "metadata": {
    "collapsed": true
   },
   "outputs": [],
   "source": []
  }
 ],
 "metadata": {
  "kernelspec": {
   "display_name": "Python 2",
   "language": "python",
   "name": "python2"
  },
  "language_info": {
   "codemirror_mode": {
    "name": "ipython",
    "version": 2
   },
   "file_extension": ".py",
   "mimetype": "text/x-python",
   "name": "python",
   "nbconvert_exporter": "python",
   "pygments_lexer": "ipython2",
   "version": "2.7.13"
  }
 },
 "nbformat": 4,
 "nbformat_minor": 2
}
