{
 "cells": [
  {
   "cell_type": "code",
   "execution_count": 1,
   "metadata": {
    "collapsed": false
   },
   "outputs": [],
   "source": [
    "from nltk.tokenize import word_tokenize\n",
    "from nltk.tokenize import TweetTokenizer\n",
    "from nltk.corpus import stopwords\n",
    "import nltk\n",
    "import matplotlib.pyplot as plt\n",
    "import string\n",
    "import csv\n",
    "import numpy as np\n",
    "import re\n",
    "from sklearn.model_selection import train_test_split\n",
    "from sklearn.metrics import accuracy_score\n",
    "from sklearn.svm import LinearSVC\n",
    "from sklearn.feature_extraction.text import TfidfVectorizer\n",
    "from sklearn.model_selection import StratifiedKFold\n",
    "from sklearn.metrics import classification_report\n",
    "from sklearn.metrics import confusion_matrix\n",
    "from sklearn.metrics import f1_score\n",
    "%matplotlib inline\n",
    "\n",
    "def plot_confusion_matrix(cm, labels, title='Confusion matrix', cmap=plt.cm.Reds):\n",
    "    plt.imshow(cm, interpolation='nearest', cmap=cmap)\n",
    "    plt.title(title)\n",
    "    plt.colorbar()\n",
    "    tick_marks = np.arange(len(labels))\n",
    "    plt.xticks(tick_marks, labels, rotation=90)\n",
    "    plt.yticks(tick_marks, labels)\n",
    "    plt.tight_layout()\n",
    "    plt.ylabel('True label')\n",
    "    plt.xlabel('Predicted label')\n",
    "    \n",
    "\n",
    "data_path = 'data/data.csv'\n",
    "\n",
    "tweet_tokenizer = TweetTokenizer()\n",
    "\n",
    "tweet_data = []\n",
    "\n",
    "with open(data_path) as f:\n",
    "    reader = csv.reader(f, delimiter=' ',\n",
    "                            quotechar='|', quoting=csv.QUOTE_MINIMAL)\n",
    "    tweet_data = list(reader)\n",
    "\n",
    "parsed_tweet = []\n",
    "\n",
    "# stop words\n",
    "stop = set(stopwords.words('russian'))"
   ]
  },
  {
   "cell_type": "code",
   "execution_count": 2,
   "metadata": {
    "collapsed": false
   },
   "outputs": [],
   "source": [
    "emoji_pattern = re.compile(\n",
    "    u\"(\\ud83d[\\ude00-\\ude4f])|\"  # emoticons\n",
    "    u\"(\\ud83c[\\udf00-\\uffff])|\"  # symbols & pictographs (1 of 2)\n",
    "    u\"(\\ud83d[\\u0000-\\uddff])|\"  # symbols & pictographs (2 of 2)\n",
    "    u\"(\\ud83d[\\ude80-\\udeff])|\"  # transport & map symbols\n",
    "    u\"(\\ud83c[\\udde0-\\uddff])\"  # flags (iOS)\n",
    "    \"+\", flags=re.UNICODE)\n",
    "\n",
    "patt1 = re.compile(u'([\\U00002600-\\U000027BF])|([\\U0001f300-\\U0001f64F])|([\\U0001f680-\\U0001f6FF])')\n",
    "patt2 = re.compile(u'([\\u2600-\\u27BF])|([\\uD83C][\\uDF00-\\uDFFF])|([\\uD83D][\\uDC00-\\uDE4F])|([\\uD83D][\\uDE80-\\uDEFF])')\n",
    "\n",
    "for info in tweet_data:\n",
    "    # delete links\n",
    "    text = re.sub(r'^https?:\\/\\/.*[\\r\\n]*', '', unicode(info[0].lower(), 'utf-8'), flags=re.MULTILINE)\n",
    "    # delete emojis\n",
    "    text = emoji_pattern.sub(r'', text) # no emoji\n",
    "    text = patt1.sub(r'', text) # no emoji\n",
    "    text = patt2.sub(r'', text) # no emoji\n",
    "    \n",
    "    # delete @\n",
    "    # delete #\n",
    "    l = \" \".join(tweet_tokenizer.tokenize(text)).split(\" \")\n",
    "    filtered_sentence = [w for w in l if not w in stop and not w in string.punctuation \n",
    "                         and ( w[0] != '@' and w[0] != '#')]\n",
    "    parsed_tweet.append(filtered_sentence)\n",
    "\n",
    "# creates a corpus with each document having one string\n",
    "\n",
    "for i in range(len(parsed_tweet)):\n",
    "    parsed_tweet[i] = ' '.join(parsed_tweet[i])    \n",
    "\n",
    "# label the data\n",
    "\n",
    "tweet_target = np.zeros(len(tweet_data))\n",
    "\n",
    "labels = {\n",
    "    'Предложение проституции': 0,\n",
    "    'Разжигание межнациональной розни': 1,\n",
    "    'Оскорбление чувств верующих': 2,\n",
    "    'Посты политической направленности': 3,\n",
    "    'Продажа наркотиков': 4,\n",
    "    'positive': 5\n",
    "}\n",
    "\n",
    "labels_list = [key for key in labels]\n",
    "labels_list_two = ['prostitution', 'mezhnac', 'vera', 'politic', 'drugs', 'positive']\n",
    "\n",
    "\n",
    "for i in range(len(tweet_data)):\n",
    "    tweet_target[i] = labels[tweet_data[i][1]]"
   ]
  },
  {
   "cell_type": "code",
   "execution_count": 3,
   "metadata": {
    "collapsed": false
   },
   "outputs": [
    {
     "name": "stdout",
     "output_type": "stream",
     "text": [
      "('\\taccuracy test: ', 0.93287037037037035)\n",
      "[[ 76   0   0   0   0   0]\n",
      " [  0  22   0   1   0   6]\n",
      " [  0   1  43   0   0   5]\n",
      " [  0   3   1  24   0   4]\n",
      " [  0   1   0   0 142   1]\n",
      " [  1   1   2   1   1  96]]\n",
      "              precision    recall  f1-score   support\n",
      "\n",
      "prostitution       0.99      1.00      0.99        76\n",
      "     mezhnac       0.79      0.76      0.77        29\n",
      "        vera       0.93      0.88      0.91        49\n",
      "     politic       0.92      0.75      0.83        32\n",
      "       drugs       0.99      0.99      0.99       144\n",
      "    positive       0.86      0.94      0.90       102\n",
      "\n",
      " avg / total       0.93      0.93      0.93       432\n",
      "\n"
     ]
    },
    {
     "data": {
      "image/png": "[encoded data removed]",
      "text/plain": [
       "<matplotlib.figure.Figure at 0x7f8f691d2f10>"
      ]
     },
     "metadata": {},
     "output_type": "display_data"
    }
   ],
   "source": [
    "total_svm = 0\n",
    "\"\"\" \n",
    "80% Training , 20% Testing\n",
    "\"\"\"\n",
    "\n",
    "twenty_percent = len(tweet_data) * 0.2\n",
    "\n",
    "X_train, X_test, y_train, y_test = train_test_split(parsed_tweet, tweet_target, test_size=0.2, random_state=42)\n",
    "\n",
    "vectorizer = TfidfVectorizer(min_df=5, max_df = 0.8, sublinear_tf=True, use_idf=True)\n",
    "\n",
    "# Returns a feature vectors matrix having a fixed length tf-idf weighted word count feature\n",
    "# for each document in training set. aka Term-document matrix\n",
    "\n",
    "train_corpus_tf_idf = vectorizer.fit_transform(X_train)\n",
    "test_corpus_tf_idf = vectorizer.transform(X_test)\n",
    "\n",
    "model1 = LinearSVC()\n",
    "model1.fit(train_corpus_tf_idf, y_train)\n",
    "\n",
    "result1 = model1.predict(test_corpus_tf_idf)\n",
    "\n",
    "print(\"\\taccuracy test: \", accuracy_score(y_test, result1))\n",
    "\n",
    "cnf_matrix = confusion_matrix(y_test, result1)\n",
    "print(cnf_matrix)\n",
    "\n",
    "plt.figure()\n",
    "plot_confusion_matrix(cnf_matrix, labels_list_two)\n",
    "\n",
    "print(classification_report(y_test, result1, target_names=labels_list_two))"
   ]
  },
  {
   "cell_type": "code",
   "execution_count": 4,
   "metadata": {
    "collapsed": false
   },
   "outputs": [
    {
     "data": {
      "image/png": "[encoded data removed]",
      "text/plain": [
       "<matplotlib.figure.Figure at 0x7f8f69119e90>"
      ]
     },
     "metadata": {},
     "output_type": "display_data"
    }
   ],
   "source": [
    "data_rr = [[ 76, 0,0,0,0,0],\n",
    "[ 0, 10, 5, 4, 0, 10],\n",
    "[ 0, 1, 42, 1, 0, 5],\n",
    "[ 1, 1, 4, 24, 0, 2],\n",
    "[ 0, 0, 1, 0, 140, 3],\n",
    "[ 1, 1, 2, 1, 1, 96]]\n",
    "plot_confusion_matrix(data_rr, labels_list_two)"
   ]
  },
  {
   "cell_type": "code",
   "execution_count": 5,
   "metadata": {
    "collapsed": false
   },
   "outputs": [
    {
     "name": "stdout",
     "output_type": "stream",
     "text": [
      "[ 0.99346405  0.77192982  0.90526316  0.82758621  0.98954704  0.89719626]\n"
     ]
    }
   ],
   "source": [
    "f1_s = f1_score(y_test, result1, average=None)\n",
    "print(f1_s)"
   ]
  },
  {
   "cell_type": "code",
   "execution_count": 6,
   "metadata": {
    "collapsed": false
   },
   "outputs": [
    {
     "name": "stdout",
     "output_type": "stream",
     "text": [
      "(0.0, '|', 1.3157894736842104, '%', '|', 0.0, '|', 17.59259259259259)\n",
      "(1.0, '|', 20.689655172413794, '%', '|', 24.137931034482758, '|', 6.712962962962964)\n",
      "(2.0, '|', 6.122448979591836, '%', '|', 12.244897959183673, '|', 11.342592592592593)\n",
      "(3.0, '|', 6.25, '%', '|', 25.0, '|', 7.4074074074074066)\n",
      "(4.0, '|', 0.6944444444444444, '%', '|', 1.3888888888888888, '|', 33.33333333333333)\n",
      "(5.0, '|', 15.686274509803921, '%', '|', 5.88235294117647, '|', 23.61111111111111)\n"
     ]
    }
   ],
   "source": [
    "errors_first = {i:0 for i in set(y_test)}\n",
    "errors_second = {i: 0 for i in set(y_test)}\n",
    "count_documents = {i:0 for i in set(y_test)}\n",
    "\n",
    "all_size = len(X_test)\n",
    "\n",
    "# ошибки первого и второго рода\n",
    "for i in range(len(result1)):\n",
    "    if(result1[i] != y_test[i]):\n",
    "        errors_first[result1[i]] += 1\n",
    "        errors_second[y_test[i]] += 1\n",
    "    count_documents[y_test[i]] += 1\n",
    "\n",
    "for i in errors_first:\n",
    "    # ошибка первого рода, ошибка второго рода, процент категории от общего количества текстов\n",
    "    print(i, '|', errors_first[i] / float(count_documents[i]) * 100, '%', '|', errors_second[i] /\n",
    "float(count_documents[i]) * 100, '|', float(count_documents[i]) / all_size * 100)"
   ]
  },
  {
   "cell_type": "code",
   "execution_count": 7,
   "metadata": {
    "collapsed": false
   },
   "outputs": [
    {
     "name": "stdout",
     "output_type": "stream",
     "text": [
      "('AVG K-cross validation: ', 0.9128014842300557)\n"
     ]
    }
   ],
   "source": [
    "total_svm = 0\n",
    "\n",
    "# initialize the K-cross fold validation\n",
    "\n",
    "kf = StratifiedKFold(n_splits=10)\n",
    "\n",
    "for train_index, test_index in kf.split(parsed_tweet, tweet_target):\n",
    "    X_train = [parsed_tweet[i] for i in train_index]\n",
    "    X_test = [parsed_tweet[i] for i in test_index]\n",
    "    y_train, y_test = tweet_target[train_index], tweet_target[test_index]\n",
    "    vectorizer = TfidfVectorizer(min_df=5, max_df = 0.8, sublinear_tf=True, use_idf=True)\n",
    "    train_corpus_tf_idf = vectorizer.fit_transform(X_train)\n",
    "    test_corpus_tf_idf = vectorizer.transform(X_test)\n",
    "    \n",
    "    model1 = LinearSVC()\n",
    "    model1.fit(train_corpus_tf_idf, y_train)\n",
    "    result1 = model1.predict(test_corpus_tf_idf)\n",
    "    \n",
    "    total_svm = total_svm + sum(y_test == result1)\n",
    "    \n",
    "\n",
    "print('AVG K-cross validation: ', float(total_svm)/len(tweet_data))"
   ]
  },
  {
   "cell_type": "code",
   "execution_count": 8,
   "metadata": {
    "collapsed": true
   },
   "outputs": [],
   "source": [
    "from sklearn.model_selection import GridSearchCV, cross_val_score"
   ]
  },
  {
   "cell_type": "code",
   "execution_count": 18,
   "metadata": {
    "collapsed": false
   },
   "outputs": [
    {
     "name": "stdout",
     "output_type": "stream",
     "text": [
      "[  1.00000000e-06   7.74263683e-06   5.99484250e-05   4.64158883e-04\n",
      "   3.59381366e-03   2.78255940e-02   2.15443469e-01   1.66810054e+00\n",
      "   1.29154967e+01   1.00000000e+02]\n",
      "1.6681005372\n"
     ]
    },
    {
     "data": {
      "text/plain": [
       "0.90186915887850472"
      ]
     },
     "execution_count": 18,
     "metadata": {},
     "output_type": "execute_result"
    }
   ],
   "source": [
    "svc = LinearSVC()\n",
    "\n",
    "Cs = np.logspace(-6, 2, 10)\n",
    "print(Cs)\n",
    "#Cs = [0.01, 0.1, 1, 2, 5, 10, 50, 100]\n",
    "clf = GridSearchCV(estimator=svc, param_grid=dict(C=Cs), n_jobs=-1)\n",
    "clf.fit(train_corpus_tf_idf, y_train)\n",
    "\n",
    "print(clf.best_estimator_.C)\n",
    "\n",
    "clf.score(test_corpus_tf_idf, y_test)"
   ]
  },
  {
   "cell_type": "code",
   "execution_count": null,
   "metadata": {
    "collapsed": true
   },
   "outputs": [],
   "source": []
  },
  {
   "cell_type": "code",
   "execution_count": null,
   "metadata": {
    "collapsed": true
   },
   "outputs": [],
   "source": []
  }
 ],
 "metadata": {
  "kernelspec": {
   "display_name": "Python 2",
   "language": "python",
   "name": "python2"
  },
  "language_info": {
   "codemirror_mode": {
    "name": "ipython",
    "version": 2
   },
   "file_extension": ".py",
   "mimetype": "text/x-python",
   "name": "python",
   "nbconvert_exporter": "python",
   "pygments_lexer": "ipython2",
   "version": "2.7.13"
  }
 },
 "nbformat": 4,
 "nbformat_minor": 0
}
